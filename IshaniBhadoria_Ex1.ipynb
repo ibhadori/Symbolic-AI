{
 "cells": [
  {
   "cell_type": "code",
   "execution_count": 1,
   "metadata": {},
   "outputs": [],
   "source": [
    "import pytholog as pl\n",
    "\n",
    "#Facts in the relations\n",
    "new_kb = pl.KnowledgeBase(\"relations\")\n",
    "new_kb([\n",
    "    \"male(abe)\",\n",
    "    \"female(mona)\",\n",
    "    \"male(herb)\",\n",
    "    \"male(homer)\",\n",
    "    \"father(abe,herb)\",\n",
    "    \"father(abe,homer)\",\n",
    "    \"mother(mona,herb)\",\n",
    "    \"mother(mona,homer)\",\n",
    "    \"male(clancy)\",\n",
    "    \"female(jacqueline)\",\n",
    "    \"female(marge)\",\n",
    "    \"female(patty)\",\n",
    "    \"female(selama)\",\n",
    "    \"father(clancy,marge)\",\n",
    "    \"father(clancy,patty)\",\n",
    "    \"father(clancy,selama)\",\n",
    "    \"mother(jacqueline,marge)\",\n",
    "    \"mother(jacqueline,patty)\",\n",
    "    \"mother(jacqueline,selama)\",\n",
    "    \"feamle(ling)\",\n",
    "    \"mother(selama,ling)\",\n",
    "    \"male(bart)\",\n",
    "    \"female(lisa)\",\n",
    "    \"female(maggie)\",\n",
    "    \"father(homer,bart)\",\n",
    "    \"father(homer,lisa)\",\n",
    "    \"father(homer,maggie)\",\n",
    "    \"mother(marge,bart)\",\n",
    "    \"mother(marge,lisa)\",\n",
    "    \"mother(marge,maggie)\"\n",
    "    #Rules for relations\n",
    "    \"parent(X,Y):- male(X),father(X,Y)\",\n",
    "    \"parent(X,Y):- female(X),mother(X,Y)\",\n",
    "    \"brother(X,Y):- male(X),father(Z,X),father(Z,Y)\",\n",
    "    \"sister(X,Y):- female(X),female(Y),father(Z,X),father(Z,Y)\",\n",
    "    \"grandfather(X,Y):-male(X),father(X,Z),father(Z,Y)\",\n",
    "    \"grandfather(X,Y):-male(X),father(X,Z),mother(Z,Y)\",\n",
    "    \"grandmother(X,Y):-female(X),mother(X,Z),mother(Z,Y)\",\n",
    "    \"grandmother(X,Y):-female(X),mother(X,Z),father(Z,Y)\",\n",
    "    \"grandparents(X,Y):-grandmother(X,Y);grandfather(X,Y)\",\n",
    "    \"uncle(X,Y):- male(X),brother(X,Z),father(Z,Y)\",\n",
    "    \"aunt(X,Y):- female(X),sister(X,Z),mother(Z,Y)\",\n",
    "    \"sibling(X,Y):- mother(Z,X),mother(W,X),brother(Z,W)\"\n",
    "])\n",
    "\n"
   ]
  },
  {
   "cell_type": "code",
   "execution_count": 2,
   "metadata": {},
   "outputs": [
    {
     "data": {
      "text/plain": [
       "['Yes']"
      ]
     },
     "execution_count": 2,
     "metadata": {},
     "output_type": "execute_result"
    }
   ],
   "source": [
    "new_kb.query(pl.Expr(\"male(abe)\"))"
   ]
  },
  {
   "cell_type": "code",
   "execution_count": 3,
   "metadata": {},
   "outputs": [
    {
     "data": {
      "text/plain": [
       "['Yes']"
      ]
     },
     "execution_count": 3,
     "metadata": {},
     "output_type": "execute_result"
    }
   ],
   "source": [
    "new_kb.query(pl.Expr(\"female(mona)\"))"
   ]
  },
  {
   "cell_type": "code",
   "execution_count": 4,
   "metadata": {},
   "outputs": [
    {
     "data": {
      "text/plain": [
       "['Yes']"
      ]
     },
     "execution_count": 4,
     "metadata": {},
     "output_type": "execute_result"
    }
   ],
   "source": [
    "new_kb.query(pl.Expr(\"mother(marge,lisa)\"))"
   ]
  },
  {
   "cell_type": "code",
   "execution_count": 5,
   "metadata": {},
   "outputs": [
    {
     "data": {
      "text/plain": [
       "['No']"
      ]
     },
     "execution_count": 5,
     "metadata": {},
     "output_type": "execute_result"
    }
   ],
   "source": [
    "new_kb.query(pl.Expr(\"father(marge,lisa)\"))"
   ]
  },
  {
   "cell_type": "code",
   "execution_count": 6,
   "metadata": {},
   "outputs": [
    {
     "data": {
      "text/plain": [
       "['Yes']"
      ]
     },
     "execution_count": 6,
     "metadata": {},
     "output_type": "execute_result"
    }
   ],
   "source": [
    "new_kb.query(pl.Expr(\"sister(lisa,maggie)\"))"
   ]
  },
  {
   "cell_type": "code",
   "execution_count": 7,
   "metadata": {},
   "outputs": [
    {
     "data": {
      "text/plain": [
       "['Yes']"
      ]
     },
     "execution_count": 7,
     "metadata": {},
     "output_type": "execute_result"
    }
   ],
   "source": [
    "new_kb.query(pl.Expr(\"grandfather(abe,bart)\"))"
   ]
  },
  {
   "cell_type": "code",
   "execution_count": 8,
   "metadata": {},
   "outputs": [
    {
     "data": {
      "text/plain": [
       "['No']"
      ]
     },
     "execution_count": 8,
     "metadata": {},
     "output_type": "execute_result"
    }
   ],
   "source": [
    "new_kb.query(pl.Expr(\"grandfather(herb,bart)\"))"
   ]
  },
  {
   "cell_type": "code",
   "execution_count": 9,
   "metadata": {},
   "outputs": [
    {
     "data": {
      "text/plain": [
       "['Yes']"
      ]
     },
     "execution_count": 9,
     "metadata": {},
     "output_type": "execute_result"
    }
   ],
   "source": [
    "new_kb.query(pl.Expr(\"brother(bart,maggie)\"))"
   ]
  },
  {
   "cell_type": "code",
   "execution_count": 10,
   "metadata": {},
   "outputs": [
    {
     "data": {
      "text/plain": [
       "['No']"
      ]
     },
     "execution_count": 10,
     "metadata": {},
     "output_type": "execute_result"
    }
   ],
   "source": [
    "new_kb.query(pl.Expr(\"aunt(mona,maggie)\"))"
   ]
  },
  {
   "cell_type": "code",
   "execution_count": 11,
   "metadata": {},
   "outputs": [
    {
     "data": {
      "text/plain": [
       "['Yes']"
      ]
     },
     "execution_count": 11,
     "metadata": {},
     "output_type": "execute_result"
    }
   ],
   "source": [
    "new_kb.query(pl.Expr(\"aunt(marge,ling)\"))"
   ]
  },
  {
   "cell_type": "code",
   "execution_count": 12,
   "metadata": {},
   "outputs": [],
   "source": [
    "import turtle"
   ]
  },
  {
   "cell_type": "code",
   "execution_count": 13,
   "metadata": {},
   "outputs": [],
   "source": [
    "screen = turtle.Screen()"
   ]
  },
  {
   "cell_type": "code",
   "execution_count": 14,
   "metadata": {},
   "outputs": [],
   "source": [
    "screen.bgpic(\"family.png\")"
   ]
  },
  {
   "cell_type": "code",
   "execution_count": 15,
   "metadata": {},
   "outputs": [],
   "source": [
    "player_one = turtle.Turtle()\n",
    "player_one.color(\"green\")\n",
    "player_one.shape(\"turtle\")\n",
    "player_one.pendown()\n",
    "\n",
    "move_speed = 10\n",
    "turn_speed = 10\n",
    "\n",
    "# these defs control the movement of our \"turtle\"\n",
    "def forward():\n",
    "  turtle.forward(move_speed)\n",
    "\n",
    "def backward():\n",
    "  turtle.backward(move_speed)\n",
    "\n",
    "def left():\n",
    "  turtle.left(turn_speed)\n",
    "def right():\n",
    "  turtle.right(turn_speed)\n",
    "\n",
    "turtle.penup()\n",
    "turtle.speed(0)\n",
    "turtle.home()\n",
    "\n",
    "# now associate the defs from above with certain keyboard events\n",
    "screen.onkey(forward, \"Up\")\n",
    "screen.onkey(backward, \"Down\")\n",
    "screen.onkey(left, \"Left\")\n",
    "screen.onkey(right, \"Right\")\n",
    "screen.listen()"
   ]
  }
 ],
 "metadata": {
  "kernelspec": {
   "display_name": "Python 3",
   "language": "python",
   "name": "python3"
  },
  "language_info": {
   "codemirror_mode": {
    "name": "ipython",
    "version": 3
   },
   "file_extension": ".py",
   "mimetype": "text/x-python",
   "name": "python",
   "nbconvert_exporter": "python",
   "pygments_lexer": "ipython3",
   "version": "3.7.0"
  }
 },
 "nbformat": 4,
 "nbformat_minor": 4
}
